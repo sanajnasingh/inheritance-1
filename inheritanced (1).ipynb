{
 "cells": [
  {
   "cell_type": "markdown",
   "id": "768731ab-e664-4fec-a330-fa1774d64b73",
   "metadata": {},
   "source": [
    "ANS 1"
   ]
  },
  {
   "cell_type": "code",
   "execution_count": 30,
   "id": "0454a61c-898b-42db-93fe-5c7b5d3ec579",
   "metadata": {},
   "outputs": [],
   "source": [
    "class car:\n",
    "\n",
    "    def __init__(self, name, speed, average):\n",
    "        self.__name = name\n",
    "        self.__speed = speed\n",
    "        self.__average = average"
   ]
  },
  {
   "cell_type": "code",
   "execution_count": 26,
   "id": "bd27197e-9117-455d-9e76-846120cde6ab",
   "metadata": {},
   "outputs": [],
   "source": [
    "c= car (\"toyota\",300,55)"
   ]
  },
  {
   "cell_type": "code",
   "execution_count": 28,
   "id": "91526d40-1482-4e5b-b787-eacbe5f71330",
   "metadata": {},
   "outputs": [
    {
     "data": {
      "text/plain": [
       "300"
      ]
     },
     "execution_count": 28,
     "metadata": {},
     "output_type": "execute_result"
    }
   ],
   "source": [
    "c._car__speed"
   ]
  },
  {
   "cell_type": "code",
   "execution_count": 29,
   "id": "287f1f85-4839-4147-bde2-f55fe86bb3cc",
   "metadata": {},
   "outputs": [
    {
     "data": {
      "text/plain": [
       "'toyota'"
      ]
     },
     "execution_count": 29,
     "metadata": {},
     "output_type": "execute_result"
    }
   ],
   "source": [
    "c._car__name"
   ]
  },
  {
   "cell_type": "markdown",
   "id": "e948d563-66e8-4fea-9cbc-15f498f1b575",
   "metadata": {},
   "source": [
    "ANS 2"
   ]
  },
  {
   "cell_type": "code",
   "execution_count": 31,
   "id": "a96fc17e-f449-40d2-952a-ad582771c437",
   "metadata": {},
   "outputs": [
    {
     "name": "stdout",
     "output_type": "stream",
     "text": [
      "name of the vehicle capacity\n"
     ]
    }
   ],
   "source": [
    "class Vehicle:\n",
    "    def __init__(self, name, mileage, capacity):\n",
    "        self.name = name\n",
    "        self.mileage = mileage\n",
    "        self.capacity = capacity\n",
    "\n",
    "    def fare(self):\n",
    "        return self.capacity * 100\n",
    "\n",
    "class car(Vehicle):\n",
    "    pass\n",
    "\n",
    "car = car(\"toyota\", 55, 50)\n",
    "print(\"name of the vehicle\",\"capacity\")"
   ]
  },
  {
   "cell_type": "markdown",
   "id": "84d3f15c-e079-484e-b2a8-1eeea4c988b4",
   "metadata": {},
   "source": [
    "ANS 3"
   ]
  },
  {
   "cell_type": "code",
   "execution_count": null,
   "id": "ea1e171a-199d-4051-81a2-f352cf47bc06",
   "metadata": {},
   "outputs": [],
   "source": [
    "When a class is derived from more than one base class it is called multiple Inheritance. The derived class inherits all\n",
    "the features of the base case."
   ]
  },
  {
   "cell_type": "code",
   "execution_count": 32,
   "id": "ffb98915-f46c-4de5-867f-d52f0b14503b",
   "metadata": {},
   "outputs": [],
   "source": [
    "class class1:\n",
    "    \n",
    "    def test_class1(self):\n",
    "        return\"this is a meth from class1\""
   ]
  },
  {
   "cell_type": "code",
   "execution_count": 33,
   "id": "48239521-11f0-4a34-977c-2a9af4032aae",
   "metadata": {},
   "outputs": [],
   "source": [
    "class class2(class1):\n",
    "    def test_class2(self):\n",
    "        return\"this is a meth from class2\""
   ]
  },
  {
   "cell_type": "code",
   "execution_count": 35,
   "id": "59f4c13a-16a1-40d6-a007-86bdda49da68",
   "metadata": {},
   "outputs": [],
   "source": [
    "class class3(class2):\n",
    "    pass"
   ]
  },
  {
   "cell_type": "code",
   "execution_count": 36,
   "id": "10b0f4bc-d2d5-41cc-90cb-2cba0ebd9021",
   "metadata": {},
   "outputs": [],
   "source": [
    "obj_class3=class3()"
   ]
  },
  {
   "cell_type": "code",
   "execution_count": 37,
   "id": "5b555c8e-69a7-4dbe-937c-35717c4a33bb",
   "metadata": {},
   "outputs": [
    {
     "data": {
      "text/plain": [
       "'this is a meth from class1'"
      ]
     },
     "execution_count": 37,
     "metadata": {},
     "output_type": "execute_result"
    }
   ],
   "source": [
    "obj_class3.test_class1()"
   ]
  },
  {
   "cell_type": "code",
   "execution_count": 38,
   "id": "d7705382-02a9-45cd-b50e-d13e8b74689e",
   "metadata": {},
   "outputs": [
    {
     "data": {
      "text/plain": [
       "'this is a meth from class2'"
      ]
     },
     "execution_count": 38,
     "metadata": {},
     "output_type": "execute_result"
    }
   ],
   "source": [
    "obj_class3.test_class2()"
   ]
  },
  {
   "cell_type": "code",
   "execution_count": null,
   "id": "3f3a0f44-d0d2-4a3a-90a5-9ec37e110887",
   "metadata": {},
   "outputs": [],
   "source": [
    "Getter: A method that allows you to access an attribute in a given class.\n",
    "Getter: A method that allows you to access an attribute in a given class."
   ]
  },
  {
   "cell_type": "code",
   "execution_count": 52,
   "id": "74e68e50-06c9-4760-a5db-1ea90ba1794d",
   "metadata": {},
   "outputs": [],
   "source": [
    "class car:\n",
    "\n",
    "    def __init__(self, name, speed, average):\n",
    "        self.__name = name\n",
    "        self.__speed = 0\n",
    "        self.__average = average\n",
    "        \n",
    "    def set_speed(self,speed):\n",
    "        self.__speed=0 if speed <0 else speed\n",
    "      \n",
    "    def get_speed(self):\n",
    "        return self.__speed"
   ]
  },
  {
   "cell_type": "code",
   "execution_count": 53,
   "id": "96194306-2317-4a5b-b7e0-04a699eb56c4",
   "metadata": {},
   "outputs": [],
   "source": [
    "c= car (\"toyota\",300,55)"
   ]
  },
  {
   "cell_type": "code",
   "execution_count": 54,
   "id": "9c403c97-e440-4572-89ca-a707d3b26d84",
   "metadata": {},
   "outputs": [],
   "source": [
    "c.set_speed(-3425)"
   ]
  },
  {
   "cell_type": "code",
   "execution_count": 55,
   "id": "21fe835d-2de9-43e9-adde-5a3141067508",
   "metadata": {},
   "outputs": [
    {
     "data": {
      "text/plain": [
       "0"
      ]
     },
     "execution_count": 55,
     "metadata": {},
     "output_type": "execute_result"
    }
   ],
   "source": [
    "c.get_speed()"
   ]
  },
  {
   "cell_type": "code",
   "execution_count": 56,
   "id": "8512fedd-14d7-48f9-88cf-5bd4935b4c52",
   "metadata": {},
   "outputs": [],
   "source": [
    "c.set_speed(526)"
   ]
  },
  {
   "cell_type": "code",
   "execution_count": 58,
   "id": "af9974a4-878f-43ec-b91a-215ebd8b0af7",
   "metadata": {},
   "outputs": [
    {
     "data": {
      "text/plain": [
       "526"
      ]
     },
     "execution_count": 58,
     "metadata": {},
     "output_type": "execute_result"
    }
   ],
   "source": [
    "c.get_speed()"
   ]
  },
  {
   "cell_type": "markdown",
   "id": "5071e0e8-2577-41b6-9d10-3c443290f380",
   "metadata": {},
   "source": [
    "ANS 5"
   ]
  },
  {
   "cell_type": "code",
   "execution_count": null,
   "id": "1e200b04-075d-477d-979f-a30281c1d53b",
   "metadata": {},
   "outputs": [],
   "source": [
    "Method overriding is an ability of any object-oriented programming language that allows a subclass or child class to provide\n",
    "a specific implementation of a method that is already provided by one of its super-classes or parent classes. "
   ]
  },
  {
   "cell_type": "code",
   "execution_count": null,
   "id": "67432ceb-5f77-4053-ada2-3311c9ff18a2",
   "metadata": {},
   "outputs": [],
   "source": [
    "class class1:\n",
    "    \n",
    "    def test_class1(self):\n",
    "        return\"this is a meth from class1\""
   ]
  },
  {
   "cell_type": "code",
   "execution_count": 59,
   "id": "f285bd5b-67a4-483e-95a1-81732e96c1e5",
   "metadata": {},
   "outputs": [],
   "source": [
    "class class2(class1):\n",
    "    def test_class2(self):\n",
    "        return\"this is a meth from class2\""
   ]
  },
  {
   "cell_type": "code",
   "execution_count": 61,
   "id": "fc8a3c55-53c4-4a2a-9aa6-981bb776b39a",
   "metadata": {},
   "outputs": [],
   "source": [
    "class class3(class2):\n",
    "    pass"
   ]
  },
  {
   "cell_type": "code",
   "execution_count": 62,
   "id": "4c97ab20-a1bb-42d6-935a-353704b26498",
   "metadata": {},
   "outputs": [],
   "source": [
    "obj_class3=class3()"
   ]
  },
  {
   "cell_type": "code",
   "execution_count": 63,
   "id": "4b69aa32-0cce-44e3-bddb-b07540463775",
   "metadata": {},
   "outputs": [
    {
     "data": {
      "text/plain": [
       "'this is a meth from class1'"
      ]
     },
     "execution_count": 63,
     "metadata": {},
     "output_type": "execute_result"
    }
   ],
   "source": [
    "obj_class3.test_class1()"
   ]
  },
  {
   "cell_type": "code",
   "execution_count": 64,
   "id": "4fd61968-3555-4599-aa52-e85b7da1bf9f",
   "metadata": {},
   "outputs": [
    {
     "data": {
      "text/plain": [
       "'this is a meth from class2'"
      ]
     },
     "execution_count": 64,
     "metadata": {},
     "output_type": "execute_result"
    }
   ],
   "source": [
    "obj_class3.test_class2()"
   ]
  },
  {
   "cell_type": "code",
   "execution_count": null,
   "id": "8497d897-3749-4b86-bc96-270fa39a58fb",
   "metadata": {},
   "outputs": [],
   "source": []
  }
 ],
 "metadata": {
  "kernelspec": {
   "display_name": "Python 3 (ipykernel)",
   "language": "python",
   "name": "python3"
  },
  "language_info": {
   "codemirror_mode": {
    "name": "ipython",
    "version": 3
   },
   "file_extension": ".py",
   "mimetype": "text/x-python",
   "name": "python",
   "nbconvert_exporter": "python",
   "pygments_lexer": "ipython3",
   "version": "3.10.8"
  }
 },
 "nbformat": 4,
 "nbformat_minor": 5
}
